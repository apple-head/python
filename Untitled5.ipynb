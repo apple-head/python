{
 "cells": [
  {
   "cell_type": "code",
   "execution_count": 9,
   "metadata": {
    "collapsed": false
   },
   "outputs": [
    {
     "name": "stdout",
     "output_type": "stream",
     "text": [
      "請輸入文字:111\n"
     ]
    },
    {
     "data": {
      "text/plain": [
       "True"
      ]
     },
     "execution_count": 9,
     "metadata": {},
     "output_type": "execute_result"
    }
   ],
   "source": [
    "a=input('請輸入文字:')\n",
    "len(set(a))!=len(a)\n"
   ]
  },
  {
   "cell_type": "code",
   "execution_count": 10,
   "metadata": {
    "collapsed": true
   },
   "outputs": [],
   "source": [
    "#60sec/min*60min/hr*24hr/day\n",
    "seconds_per_day = 86400"
   ]
  },
  {
   "cell_type": "code",
   "execution_count": 11,
   "metadata": {
    "collapsed": false
   },
   "outputs": [
    {
     "data": {
      "text/plain": [
       "'abcdefghijklmnopqrstuvwxyz'"
      ]
     },
     "execution_count": 11,
     "metadata": {},
     "output_type": "execute_result"
    }
   ],
   "source": [
    "english='abcd'\n",
    "english+='efgh'\n",
    "english+='ijklm'\n",
    "english+='nopqrs'\n",
    "english+='tuvwxyz'\n",
    "english"
   ]
  },
  {
   "cell_type": "code",
   "execution_count": 12,
   "metadata": {
    "collapsed": false
   },
   "outputs": [
    {
     "name": "stdout",
     "output_type": "stream",
     "text": [
      "杜哲宇\n"
     ]
    }
   ],
   "source": [
    "tall = True\n",
    "handsome = True\n",
    "if tall:\n",
    "    if handsome:\n",
    "        print(\"杜哲宇\")\n",
    "    else:\n",
    "        print(\"陳孔豪\")\n",
    "else:\n",
    "    if handsome:\n",
    "        print(\"洪敬華\")\n",
    "    else:\n",
    "        print(\"哈哈哈\")"
   ]
  },
  {
   "cell_type": "code",
   "execution_count": 13,
   "metadata": {
    "collapsed": false
   },
   "outputs": [
    {
     "name": "stdout",
     "output_type": "stream",
     "text": [
      "哈密瓜\n"
     ]
    }
   ],
   "source": [
    "taste = \"哈味\"\n",
    "if taste == \"第一名\":\n",
    "    print(\"芒果\")\n",
    "elif taste == \"哈味\":\n",
    "    print(\"哈密瓜\")\n",
    "elif taste == \"有些人喜歡\":\n",
    "    print(\"有些人不喜歡\")\n",
    "else:\n",
    "    print(我不知道甚麼味)"
   ]
  },
  {
   "cell_type": "code",
   "execution_count": 14,
   "metadata": {
    "collapsed": false
   },
   "outputs": [
    {
     "data": {
      "text/plain": [
       "False"
      ]
     },
     "execution_count": 14,
     "metadata": {},
     "output_type": "execute_result"
    }
   ],
   "source": [
    "x=7\n",
    "x==5"
   ]
  },
  {
   "cell_type": "code",
   "execution_count": 15,
   "metadata": {
    "collapsed": false
   },
   "outputs": [
    {
     "data": {
      "text/plain": [
       "False"
      ]
     },
     "execution_count": 15,
     "metadata": {},
     "output_type": "execute_result"
    }
   ],
   "source": [
    "x<5"
   ]
  },
  {
   "cell_type": "code",
   "execution_count": 16,
   "metadata": {
    "collapsed": false
   },
   "outputs": [
    {
     "data": {
      "text/plain": [
       "True"
      ]
     },
     "execution_count": 16,
     "metadata": {},
     "output_type": "execute_result"
    }
   ],
   "source": [
    "10>x"
   ]
  },
  {
   "cell_type": "code",
   "execution_count": 17,
   "metadata": {
    "collapsed": false
   },
   "outputs": [
    {
     "data": {
      "text/plain": [
       "False"
      ]
     },
     "execution_count": 17,
     "metadata": {},
     "output_type": "execute_result"
    }
   ],
   "source": [
    "x<6 and x>4"
   ]
  },
  {
   "cell_type": "code",
   "execution_count": 1,
   "metadata": {
    "collapsed": false
   },
   "outputs": [
    {
     "name": "stdout",
     "output_type": "stream",
     "text": [
      "1\n",
      "2\n",
      "3\n",
      "4\n",
      "5\n"
     ]
    }
   ],
   "source": [
    "count = 1\n",
    "while count <= 5:\n",
    "    print(count)\n",
    "    count += 1"
   ]
  },
  {
   "cell_type": "code",
   "execution_count": 1,
   "metadata": {
    "collapsed": false
   },
   "outputs": [
    {
     "name": "stdout",
     "output_type": "stream",
     "text": [
      "猜猜我是誰?michael jackson\n",
      "笑你猜不到\n",
      "猜猜我是誰?Michael Jackson\n",
      "猜對了!好棒棒\n"
     ]
    }
   ],
   "source": [
    "while True:\n",
    "    man = input(\"猜猜我是誰?\")\n",
    "    if man == \"Michael Jackson\":\n",
    "        print(\"猜對了!好棒棒\")\n",
    "        break\n",
    "    else:\n",
    "        print(\"笑你猜不到\")"
   ]
  },
  {
   "cell_type": "code",
   "execution_count": null,
   "metadata": {
    "collapsed": false
   },
   "outputs": [
    {
     "name": "stdout",
     "output_type": "stream",
     "text": [
      "什麼課?經濟學\n",
      "TR 412-2\n",
      "什麼課?計概\n",
      "TR 310\n",
      "什麼課?微積分\n",
      "沒有這門課哦\n"
     ]
    }
   ],
   "source": [
    "while True:\n",
    "    a = input(\"什麼課?\")\n",
    "    if a == \"經濟學\":\n",
    "        print(\"TR 412-2\")\n",
    "    elif a == \"計概\":\n",
    "        print(\"TR 310\")\n",
    "    else:\n",
    "        print(\"沒有這門課哦\")"
   ]
  },
  {
   "cell_type": "code",
   "execution_count": null,
   "metadata": {
    "collapsed": false
   },
   "outputs": [],
   "source": []
  },
  {
   "cell_type": "code",
   "execution_count": null,
   "metadata": {
    "collapsed": true
   },
   "outputs": [],
   "source": []
  }
 ],
 "metadata": {
  "kernelspec": {
   "display_name": "Python 3",
   "language": "python",
   "name": "python3"
  },
  "language_info": {
   "codemirror_mode": {
    "name": "ipython",
    "version": 3
   },
   "file_extension": ".py",
   "mimetype": "text/x-python",
   "name": "python",
   "nbconvert_exporter": "python",
   "pygments_lexer": "ipython3",
   "version": "3.4.3"
  }
 },
 "nbformat": 4,
 "nbformat_minor": 0
}
